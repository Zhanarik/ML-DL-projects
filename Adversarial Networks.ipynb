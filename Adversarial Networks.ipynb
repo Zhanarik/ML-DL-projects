{
 "cells": [
  {
   "cell_type": "markdown",
   "metadata": {
    "id": "2LpHf7xU4RB3"
   },
   "source": [
    "### Generating human faces with Adversarial Networks \n",
    "<img src=\"https://www.strangerdimensions.com/wp-content/uploads/2013/11/reception-robot.jpg\" width=320>\n",
    "This time we'll train a neural net to generate plausible human faces in all their subtlty: appearance, expression, accessories, etc. 'Cuz when us machines gonna take over Earth, there won't be any more faces left. We want to preserve this data for future iterations. Yikes...\n",
    "\n",
    "Based on https://github.com/Lasagne/Recipes/pull/94 .\n"
   ]
  },
  {
   "cell_type": "code",
   "execution_count": 10,
   "metadata": {
    "colab": {
     "base_uri": "https://localhost:8080/",
     "height": 1000
    },
    "id": "PQaOOebd5AT1",
    "outputId": "bdd10c9a-f71f-47ee-c219-8990890eb97f"
   },
   "outputs": [
    {
     "name": "stdout",
     "output_type": "stream",
     "text": [
      "--2022-12-27 09:26:40--  https://raw.githubusercontent.com/yandexdataschool/Practical_DL/fall20/week08_generative/lfw_dataset.py\n",
      "Resolving raw.githubusercontent.com (raw.githubusercontent.com)... 185.199.110.133, 185.199.108.133, 185.199.111.133, ...\n",
      "Connecting to raw.githubusercontent.com (raw.githubusercontent.com)|185.199.110.133|:443... connected.\n",
      "HTTP request sent, awaiting response... 200 OK\n",
      "Length: 3056 (3.0K) [text/plain]\n",
      "Saving to: ‘lfw_dataset.py’\n",
      "\n",
      "lfw_dataset.py      100%[===================>]   2.98K  --.-KB/s    in 0s      \n",
      "\n",
      "2022-12-27 09:26:40 (34.5 MB/s) - ‘lfw_dataset.py’ saved [3056/3056]\n",
      "\n",
      "Looking in indexes: https://pypi.org/simple, https://us-python.pkg.dev/colab-wheels/public/simple/\n",
      "Collecting Image\n",
      "  Downloading image-1.5.33.tar.gz (15 kB)\n",
      "Collecting Pillow==5.1.0\n",
      "  Downloading Pillow-5.1.0.tar.gz (14.3 MB)\n",
      "\u001b[K     |████████████████████████████████| 14.3 MB 3.9 MB/s \n",
      "\u001b[?25hCollecting scipy==1.1.0\n",
      "  Downloading scipy-1.1.0.tar.gz (15.6 MB)\n",
      "\u001b[K     |████████████████████████████████| 15.6 MB 56.0 MB/s \n",
      "\u001b[?25hCollecting django\n",
      "  Downloading Django-4.1.4-py3-none-any.whl (8.1 MB)\n",
      "\u001b[K     |████████████████████████████████| 8.1 MB 47.4 MB/s \n",
      "\u001b[?25hRequirement already satisfied: six in /usr/local/lib/python3.8/dist-packages (from Image) (1.15.0)\n",
      "Requirement already satisfied: sqlparse>=0.2.2 in /usr/local/lib/python3.8/dist-packages (from django->Image) (0.4.3)\n",
      "Collecting backports.zoneinfo\n",
      "  Downloading backports.zoneinfo-0.2.1-cp38-cp38-manylinux1_x86_64.whl (74 kB)\n",
      "\u001b[K     |████████████████████████████████| 74 kB 2.9 MB/s \n",
      "\u001b[?25hCollecting asgiref<4,>=3.5.2\n",
      "  Downloading asgiref-3.6.0-py3-none-any.whl (23 kB)\n",
      "Building wheels for collected packages: Pillow, scipy, Image\n",
      "  Building wheel for Pillow (setup.py) ... \u001b[?25l\u001b[?25hdone\n",
      "  Created wheel for Pillow: filename=Pillow-5.1.0-cp38-cp38-linux_x86_64.whl size=1035932 sha256=74273d3ccdea912e354d984ed06889a4fa4d80aa333f1cde8c8a41ecb7905c94\n",
      "  Stored in directory: /root/.cache/pip/wheels/93/7c/f3/742b7300cd78d6c3094f01a901c43cdbf1de449485bd0bf743\n",
      "  Building wheel for scipy (setup.py) ... \u001b[?25l\u001b[?25hdone\n",
      "  Created wheel for scipy: filename=scipy-1.1.0-cp38-cp38-linux_x86_64.whl size=41832919 sha256=07221876a94be5fe1e99b84fcfa00d84ad237ce9d195f405b6e97551af5202ac\n",
      "  Stored in directory: /root/.cache/pip/wheels/29/a9/5e/9e4eddde37a1e15cf5cb404ba197df482cc39ffbfef91ec337\n",
      "  Building wheel for Image (setup.py) ... \u001b[?25l\u001b[?25hdone\n",
      "  Created wheel for Image: filename=image-1.5.33-py2.py3-none-any.whl size=19494 sha256=85255d2f4f8961ee1d776ba167042174131d64981b50c1aba8926377c79060ba\n",
      "  Stored in directory: /root/.cache/pip/wheels/ac/30/5c/a8b33888bea3507eda7c924a143d34b2390d2ca5b145b327b5\n",
      "Successfully built Pillow scipy Image\n",
      "Installing collected packages: backports.zoneinfo, asgiref, Pillow, django, scipy, Image\n",
      "  Attempting uninstall: Pillow\n",
      "    Found existing installation: Pillow 7.1.2\n",
      "    Uninstalling Pillow-7.1.2:\n",
      "      Successfully uninstalled Pillow-7.1.2\n",
      "  Attempting uninstall: scipy\n",
      "    Found existing installation: scipy 1.7.3\n",
      "    Uninstalling scipy-1.7.3:\n",
      "      Successfully uninstalled scipy-1.7.3\n",
      "\u001b[31mERROR: pip's dependency resolver does not currently take into account all the packages that are installed. This behaviour is the source of the following dependency conflicts.\n",
      "xarray-einstats 0.4.0 requires scipy>=1.6, but you have scipy 1.1.0 which is incompatible.\n",
      "torchvision 0.14.0+cu116 requires pillow!=8.3.*,>=5.3.0, but you have pillow 5.1.0 which is incompatible.\n",
      "pymc 4.1.4 requires scipy>=1.4.1, but you have scipy 1.1.0 which is incompatible.\n",
      "plotnine 0.8.0 requires scipy>=1.5.0, but you have scipy 1.1.0 which is incompatible.\n",
      "jaxlib 0.3.25+cuda11.cudnn805 requires scipy>=1.5, but you have scipy 1.1.0 which is incompatible.\n",
      "jax 0.3.25 requires scipy>=1.5, but you have scipy 1.1.0 which is incompatible.\n",
      "fastai 2.7.10 requires pillow>6.0.0, but you have pillow 5.1.0 which is incompatible.\n",
      "bokeh 2.3.3 requires pillow>=7.1.0, but you have pillow 5.1.0 which is incompatible.\n",
      "aeppl 0.0.33 requires scipy>=1.4.0, but you have scipy 1.1.0 which is incompatible.\u001b[0m\n",
      "Successfully installed Image-1.5.33 Pillow-5.1.0 asgiref-3.6.0 backports.zoneinfo-0.2.1 django-4.1.4 scipy-1.1.0\n"
     ]
    },
    {
     "data": {
      "application/vnd.colab-display-data+json": {
       "pip_warning": {
        "packages": [
         "PIL",
         "scipy"
        ]
       }
      }
     },
     "metadata": {},
     "output_type": "display_data"
    }
   ],
   "source": [
    "!wget https://raw.githubusercontent.com/yandexdataschool/Practical_DL/fall20/week08_generative/lfw_dataset.py -O lfw_dataset.py\n",
    "!pip install Image Pillow==5.1.0 scipy==1.1.0\n"
   ]
  },
  {
   "cell_type": "code",
   "execution_count": 1,
   "metadata": {
    "collapsed": true,
    "id": "UlEB1YKe4RB7"
   },
   "outputs": [],
   "source": [
    "import matplotlib.pyplot as plt\n",
    "%matplotlib inline\n",
    "import numpy as np\n",
    "plt.rcParams.update({'axes.titlesize': 'small'})\n",
    "\n",
    "from sklearn.datasets import load_digits\n",
    "#The following line fetches you two datasets: images, usable for autoencoder training and attributes.\n",
    "#Those attributes will be required for the final part of the assignment (applying smiles), so please keep them in mind\n",
    "from lfw_dataset import fetch_lfw_dataset\n",
    "data,attrs = fetch_lfw_dataset(dimx=36, dimy=36)\n",
    "\n",
    "#preprocess faces\n",
    "data = np.float32(data).transpose([0,3,1,2]) / 255.\n",
    "\n",
    "IMG_SHAPE = data.shape[1:]"
   ]
  },
  {
   "cell_type": "code",
   "execution_count": 2,
   "metadata": {
    "colab": {
     "base_uri": "https://localhost:8080/",
     "height": 284
    },
    "collapsed": true,
    "id": "CVR5azs94RB8",
    "outputId": "b3977bbd-cf36-43b4-91c6-a295dbc5bdb3"
   },
   "outputs": [
    {
     "data": {
      "text/plain": [
       "<matplotlib.image.AxesImage at 0x7f6d4822feb0>"
      ]
     },
     "execution_count": 2,
     "metadata": {},
     "output_type": "execute_result"
    },
    {
     "data": {
      "image/png": "[encoded data removed]",
      "text/plain": [
       "<Figure size 432x288 with 1 Axes>"
      ]
     },
     "metadata": {
      "needs_background": "light"
     },
     "output_type": "display_data"
    }
   ],
   "source": [
    "#print random image\n",
    "plt.imshow(data[np.random.randint(data.shape[0])].transpose([1,2,0]),\n",
    "           cmap=\"gray\", interpolation=\"none\")"
   ]
  },
  {
   "cell_type": "markdown",
   "metadata": {
    "id": "YevmObVv4RB-"
   },
   "source": [
    "# Generative adversarial nets 101\n",
    "\n",
    "<img src=\"https://raw.githubusercontent.com/torch/torch.github.io/master/blog/_posts/images/model.png\" width=320px height=240px>\n",
    "\n",
    "Deep learning is simple, isn't it? \n",
    "* build some network that generates the face (small image)\n",
    "* make up a __measure__ of __how good that face is__\n",
    "* optimize with gradient descent :)\n",
    "\n",
    "\n",
    "The only problem is: how can we engineers tell well-generated faces from bad? And i bet you we won't ask a designer for help. \n",
    "\n",
    "__If we can't tell good faces from bad, we delegate it to yet another neural network!__\n",
    "\n",
    "That makes the two of them:\n",
    "* __G__enerator - takes random noize for inspiration and tries to generate a face sample. \n",
    "  * Let's call him __G__(z), where z is a gaussian noize.\n",
    "* __D__iscriminator - takes a face sample and tries to tell if it's great or fake. \n",
    "  * Predicts the probability of input image being a __real face__\n",
    "  * Let's call him __D__(x), x being an image.\n",
    "  * __D(x)__ is a predition for real image and __D(G(z))__ is prediction for the face made by generator.\n",
    "\n",
    "Before we dive into training them, let's construct the two networks."
   ]
  },
  {
   "cell_type": "code",
   "execution_count": 3,
   "metadata": {
    "colab": {
     "base_uri": "https://localhost:8080/"
    },
    "collapsed": true,
    "id": "33YN3HIK4RB_",
    "outputId": "3c329bc7-f3ad-40be-895f-24e04a9c814d"
   },
   "outputs": [
    {
     "name": "stdout",
     "output_type": "stream",
     "text": [
      "Torch version: 1.13.0+cu116\n",
      "Not using GPU\n"
     ]
    }
   ],
   "source": [
    "import torch, torch.nn as nn\n",
    "import torch.nn.functional as F\n",
    "\n",
    "use_cuda = torch.cuda.is_available()\n",
    "\n",
    "print(\"Torch version:\", torch.__version__)\n",
    "if use_cuda:\n",
    "    print(\"Using GPU\")\n",
    "else:\n",
    "    print(\"Not using GPU\")"
   ]
  },
  {
   "cell_type": "code",
   "execution_count": 4,
   "metadata": {
    "collapsed": true,
    "id": "hXPXJQao4RCA"
   },
   "outputs": [],
   "source": [
    "def sample_noise_batch(batch_size):\n",
    "    noise = torch.randn(batch_size, CODE_SIZE)\n",
    "    return noise.cuda() if use_cuda else noise.cpu()\n",
    "    \n",
    "class Reshape(nn.Module):\n",
    "    def __init__(self, shape):\n",
    "        nn.Module.__init__(self)\n",
    "        self.shape=shape\n",
    "    def forward(self,input):\n",
    "        return input.view(self.shape)"
   ]
  },
  {
   "cell_type": "code",
   "execution_count": 5,
   "metadata": {
    "collapsed": true,
    "id": "kZEX-82Y4RCB",
    "scrolled": false
   },
   "outputs": [],
   "source": [
    "CODE_SIZE = 256\n",
    "\n",
    "from itertools import count\n",
    "# automatic layer name maker. Don't do this in production :)\n",
    "ix = ('layer_%i'%i for i in count())\n",
    "\n",
    "generator = nn.Sequential()\n",
    "\n",
    "generator.add_module(next(ix), nn.Linear(CODE_SIZE, 10*8*8))\n",
    "generator.add_module(next(ix), nn.ELU())\n",
    "generator.add_module(next(ix), Reshape([-1, 10, 8, 8]))\n",
    "\n",
    "generator.add_module(next(ix), nn.ConvTranspose2d(10, 64, kernel_size=(5,5)))\n",
    "generator.add_module(next(ix), nn.ELU())\n",
    "generator.add_module(next(ix), nn.ConvTranspose2d(64, 64, kernel_size=(5,5)))\n",
    "generator.add_module(next(ix), nn.ELU())\n",
    "generator.add_module(next(ix), nn.Upsample(scale_factor=2))\n",
    "\n",
    "generator.add_module(next(ix), nn.ConvTranspose2d(64, 32, kernel_size=(5,5)))\n",
    "generator.add_module(next(ix), nn.ELU())\n",
    "generator.add_module(next(ix), nn.ConvTranspose2d(32, 32, kernel_size=(5,5)))\n",
    "generator.add_module(next(ix), nn.ELU())\n",
    "\n",
    "generator.add_module(next(ix), nn.Conv2d(32, 3, kernel_size=(5,5)))\n",
    "\n",
    "if use_cuda: generator.cuda()"
   ]
  },
  {
   "cell_type": "code",
   "execution_count": 6,
   "metadata": {
    "collapsed": true,
    "id": "SP2uolRa4RCD"
   },
   "outputs": [],
   "source": [
    "generated_data = generator(sample_noise_batch(5))\n",
    "assert tuple(generated_data.shape)[1:] == IMG_SHAPE, \"generator must output an image of shape %s, but instead it produces %s\"%(IMG_SHAPE,generated_data.shape)"
   ]
  },
  {
   "cell_type": "markdown",
   "metadata": {
    "id": "FRtpveja4RCE"
   },
   "source": [
    "### Discriminator\n",
    "* Discriminator is your usual convolutional network with interlooping convolution and pooling layers\n",
    "* The network does not include dropout/batchnorm to avoid learning complications.\n",
    "* We also regularize the pre-output layer to prevent discriminator from being too certain."
   ]
  },
  {
   "cell_type": "code",
   "execution_count": 7,
   "metadata": {
    "collapsed": true,
    "id": "kDQCbRM44RCF"
   },
   "outputs": [],
   "source": [
    "def sample_data_batch(batch_size):\n",
    "    idxs = np.random.choice(np.arange(data.shape[0]), size=batch_size)\n",
    "    batch = torch.tensor(data[idxs], dtype=torch.float32)\n",
    "    return batch.cuda() if use_cuda else batch.cpu()\n",
    "\n",
    "# a special module that converts [batch, channel, w, h] to [batch, units]\n",
    "class Flatten(nn.Module):\n",
    "    def forward(self, input):\n",
    "        return input.view(input.shape[0], -1)"
   ]
  },
  {
   "cell_type": "code",
   "execution_count": 9,
   "metadata": {
    "collapsed": true,
    "id": "Xu-I11Vk4RCF"
   },
   "outputs": [],
   "source": [
    "discriminator = nn.Sequential(\n",
    "    nn.Conv2d(3, 16, 5, padding=2, bias=False),\n",
    "    nn.LeakyReLU(),\n",
    "    nn.MaxPool2d(kernel_size=2),\n",
    "\n",
    "    nn.Conv2d(16, 32, 5, padding=2, bias=False),\n",
    "    nn.LeakyReLU(),\n",
    "    nn.MaxPool2d(kernel_size=2),\n",
    "\n",
    "    nn.Conv2d(32, 64, 3, padding=1, bias=False),\n",
    "    nn.LeakyReLU(),\n",
    "    nn.MaxPool2d(kernel_size=2),\n",
    "\n",
    "    nn.Flatten(),\n",
    "    nn.Linear(1024, 512),\n",
    "    nn.LeakyReLU(),\n",
    "    \n",
    "    nn.Linear(512, 1) \n",
    ")\n",
    "\n",
    "if use_cuda: discriminator.cuda()"
   ]
  },
  {
   "cell_type": "code",
   "execution_count": 10,
   "metadata": {
    "colab": {
     "base_uri": "https://localhost:8080/"
    },
    "collapsed": true,
    "id": "AohqT78q4RCG",
    "outputId": "cdb7be56-d419-40ce-f673-f8743b4b56b6"
   },
   "outputs": [
    {
     "data": {
      "text/plain": [
       "tensor([[-0.0430],\n",
       "        [-0.0443],\n",
       "        [-0.0397],\n",
       "        [-0.0428],\n",
       "        [-0.0425]], grad_fn=<AddmmBackward0>)"
      ]
     },
     "execution_count": 10,
     "metadata": {},
     "output_type": "execute_result"
    }
   ],
   "source": [
    "discriminator(sample_data_batch(5))"
   ]
  },
  {
   "cell_type": "markdown",
   "metadata": {
    "id": "CVcHEhkt4RCG"
   },
   "source": [
    "# Training\n",
    "\n",
    "We train the two networks concurrently:\n",
    "* Train __discriminator__ to better distinguish real data from __current__ generator\n",
    "* Train __generator__ to make discriminator think generator is real\n",
    "* Since discriminator is a differentiable neural network, we train both with gradient descent.\n",
    "\n",
    "![img](https://s24.postimg.org/cw4nognxx/gan.png)\n",
    "\n",
    "Training is done iteratively until discriminator is no longer able to find the difference (or until you run out of patience).\n",
    "\n",
    "\n",
    "### Tricks:\n",
    "* Regularize discriminator output weights to prevent explosion\n",
    "* Train generator with __adam__ to speed up training. Discriminator trains with SGD to avoid problems with momentum.\n",
    "* More: https://github.com/soumith/ganhacks\n"
   ]
  },
  {
   "cell_type": "code",
   "execution_count": 13,
   "metadata": {
    "collapsed": true,
    "id": "WHRdCt__4RCH"
   },
   "outputs": [],
   "source": [
    "def generator_loss(noise):\n",
    "    \"\"\"\n",
    "    1. generate data given noise\n",
    "    2. compute log P(real | gen noise)\n",
    "    3. return generator loss (should be scalar)\n",
    "    \"\"\"\n",
    "    generated_data = generator(noise)\n",
    "    \n",
    "    disc_on_generated_data = discriminator(generated_data)\n",
    "    \n",
    "    logp_gen_is_real = F.logsigmoid(disc_on_generated_data)\n",
    "    \n",
    "    loss = torch.mean(-logp_gen_is_real)\n",
    "    \n",
    "    return loss"
   ]
  },
  {
   "cell_type": "code",
   "execution_count": 14,
   "metadata": {
    "colab": {
     "base_uri": "https://localhost:8080/"
    },
    "collapsed": true,
    "id": "X4Aa2ifm4RCH",
    "outputId": "b6a2960d-39f6-4152-e695-a4d7ee456b04"
   },
   "outputs": [
    {
     "name": "stdout",
     "output_type": "stream",
     "text": [
      "tensor(0.7136, grad_fn=<MeanBackward0>)\n"
     ]
    }
   ],
   "source": [
    "loss = generator_loss(sample_noise_batch(32))\n",
    "\n",
    "print(loss)\n",
    "\n",
    "assert len(loss.shape) == 0, \"loss must be scalar\""
   ]
  },
  {
   "cell_type": "code",
   "execution_count": 15,
   "metadata": {
    "collapsed": true,
    "id": "aA4EbSBN4RCH"
   },
   "outputs": [],
   "source": [
    "def discriminator_loss(real_data, generated_data):\n",
    "    \"\"\"\n",
    "    1. compute discriminator's output on real & generated data\n",
    "    2. compute log-probabilities of real data being real, generated data being fake\n",
    "    3. return discriminator loss (scalar)\n",
    "    \"\"\"\n",
    "    disc_on_real_data = discriminator(real_data)\n",
    "    disc_on_fake_data = discriminator(generated_data)\n",
    "    \n",
    "    logp_real_is_real = F.logsigmoid(disc_on_real_data)\n",
    "    logp_gen_is_fake = F.logsigmoid(-disc_on_fake_data)\n",
    "    \n",
    "    loss = -torch.mean(logp_real_is_real + logp_gen_is_fake)\n",
    "    return loss"
   ]
  },
  {
   "cell_type": "code",
   "execution_count": 16,
   "metadata": {
    "colab": {
     "base_uri": "https://localhost:8080/"
    },
    "collapsed": true,
    "id": "sniISmAN4RCI",
    "outputId": "183815e7-e974-442a-8d4e-60426854fb4b"
   },
   "outputs": [
    {
     "name": "stdout",
     "output_type": "stream",
     "text": [
      "tensor(1.3875, grad_fn=<NegBackward0>)\n"
     ]
    }
   ],
   "source": [
    "loss = discriminator_loss(sample_data_batch(32), \n",
    "                   generator(sample_noise_batch(32)))\n",
    "\n",
    "print(loss)\n",
    "\n",
    "assert len(loss.shape) == 0, \"loss must be scalar\""
   ]
  },
  {
   "cell_type": "markdown",
   "metadata": {
    "id": "Byc2bXr54RCJ"
   },
   "source": [
    "### Auxilary functions\n",
    "Here we define a few helper functions that draw current data distributions and sample training batches."
   ]
  },
  {
   "cell_type": "code",
   "execution_count": 17,
   "metadata": {
    "collapsed": true,
    "id": "ydq7YbUc4RCJ"
   },
   "outputs": [],
   "source": [
    "def sample_images(nrow, ncol, sharp=False):\n",
    "    images = generator(sample_noise_batch(batch_size=nrow*ncol))\n",
    "    images = images.data.cpu().numpy().transpose([0, 2, 3, 1])\n",
    "    if np.var(images)!=0:\n",
    "        images = images.clip(np.min(data),np.max(data))\n",
    "    for i in range(nrow*ncol):\n",
    "        plt.subplot(nrow,ncol,i+1)\n",
    "        if sharp:\n",
    "            plt.imshow(images[i], cmap=\"gray\", interpolation=\"none\")\n",
    "        else:\n",
    "            plt.imshow(images[i], cmap=\"gray\")\n",
    "    plt.show()\n",
    "\n",
    "def sample_probas(batch_size):\n",
    "    plt.title('Generated vs real data')\n",
    "    D_real = F.sigmoid(discriminator(sample_data_batch(batch_size)))\n",
    "    generated_data_batch = generator(sample_noise_batch(batch_size))\n",
    "    D_fake = F.sigmoid(discriminator(generated_data_batch))\n",
    "    \n",
    "    plt.hist(D_real.data.cpu().numpy(),\n",
    "             label='D(x)', alpha=0.5, range=[0,1])\n",
    "    plt.hist(D_fake.data.cpu().numpy(),\n",
    "             label='D(G(z))', alpha=0.5, range=[0,1])\n",
    "    plt.legend(loc='best')\n",
    "    plt.show()"
   ]
  },
  {
   "cell_type": "markdown",
   "metadata": {
    "id": "Jsu_yTR-4RCJ"
   },
   "source": [
    "### Training\n",
    "Main loop.\n",
    "We just train generator and discriminator in a loop and draw results once every N iterations."
   ]
  },
  {
   "cell_type": "code",
   "execution_count": 18,
   "metadata": {
    "collapsed": true,
    "id": "3amoD1oy4RCJ"
   },
   "outputs": [],
   "source": [
    "#optimizers\n",
    "disc_opt = torch.optim.SGD(discriminator.parameters(), lr=5e-3)\n",
    "gen_opt = torch.optim.Adam(generator.parameters(), lr=1e-4)"
   ]
  },
  {
   "cell_type": "code",
   "execution_count": null,
   "metadata": {
    "colab": {
     "base_uri": "https://localhost:8080/",
     "height": 529
    },
    "collapsed": true,
    "id": "4cEBV2L54RCK",
    "outputId": "a4fec308-72ae-42d5-a9e0-7c43fcf92a63",
    "scrolled": true
   },
   "outputs": [
    {
     "data": {
      "image/png": "[encoded data removed]",
      "text/plain": [
       "<Figure size 432x288 with 6 Axes>"
      ]
     },
     "metadata": {},
     "output_type": "display_data"
    },
    {
     "data": {
      "image/png": "[encoded data removed]",
      "text/plain": [
       "<Figure size 432x288 with 1 Axes>"
      ]
     },
     "metadata": {},
     "output_type": "display_data"
    }
   ],
   "source": [
    "from IPython import display\n",
    "from tqdm import tnrange\n",
    "batch_size = 100\n",
    "\n",
    "for epoch in tnrange(50000):\n",
    "    \n",
    "    # Train discriminator\n",
    "    for i in range(5):\n",
    "        real_data = sample_data_batch(batch_size)\n",
    "        fake_data = generator(sample_noise_batch(batch_size))\n",
    "        loss = discriminator_loss(real_data, fake_data)\n",
    "        disc_opt.zero_grad()\n",
    "        loss.backward()\n",
    "        disc_opt.step()\n",
    "        \n",
    "    # Train generator\n",
    "    noise = sample_noise_batch(batch_size)\n",
    "    loss = generator_loss(noise)\n",
    "    gen_opt.zero_grad()\n",
    "    loss.backward()\n",
    "    gen_opt.step()\n",
    "    \n",
    "    if epoch %100==0:\n",
    "        display.clear_output(wait=True)\n",
    "        sample_images(2,3,True)\n",
    "        sample_probas(1000)\n",
    "        "
   ]
  },
  {
   "cell_type": "code",
   "execution_count": null,
   "metadata": {
    "collapsed": true,
    "id": "QkiK09AC4RCK",
    "scrolled": false
   },
   "outputs": [],
   "source": [
    "plt.figure(figsize=[16, 24])\n",
    "sample_images(16, 8)\n",
    "\n",
    "# Note: a no-nonsense neural network should be able to produce reasonably good images after 15k iterations\n",
    "# By \"reasonably good\" we mean \"resembling a car crash victim\" or better"
   ]
  },
  {
   "cell_type": "markdown",
   "metadata": {
    "id": "jIacyNs64RCK"
   },
   "source": [
    "### Evaluation\n",
    "__The code below__ dumps a batch of images so that you could use them for precision/recall evaluation.\n",
    "\n",
    "Please, if you want to compare the result with the autoencoder result, generate the same number of images as for autoencoders for a fair comparison."
   ]
  },
  {
   "cell_type": "code",
   "execution_count": null,
   "metadata": {
    "id": "KG82yALjVnEl"
   },
   "outputs": [],
   "source": []
  }
 ],
 "metadata": {
  "anaconda-cloud": {},
  "colab": {
   "provenance": []
  },
  "kernelspec": {
   "display_name": "Python 3",
   "language": "python",
   "name": "python3"
  },
  "language_info": {
   "codemirror_mode": {
    "name": "ipython",
    "version": 3
   },
   "file_extension": ".py",
   "mimetype": "text/x-python",
   "name": "python",
   "nbconvert_exporter": "python",
   "pygments_lexer": "ipython3",
   "version": "3.7.4"
  }
 },
 "nbformat": 4,
 "nbformat_minor": 1
}
